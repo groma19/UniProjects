{
 "cells": [
  {
   "cell_type": "code",
   "execution_count": 1,
   "metadata": {},
   "outputs": [],
   "source": [
    "import numpy as np"
   ]
  },
  {
   "cell_type": "code",
   "execution_count": 2,
   "metadata": {},
   "outputs": [
    {
     "name": "stdout",
     "output_type": "stream",
     "text": [
      "[[0 2 4 ... 7 1 4]\n",
      " [3 7 1 ... 3 0 1]\n",
      " [4 6 2 ... 2 7 3]\n",
      " ...\n",
      " [4 0 4 ... 8 1 3]\n",
      " [1 8 8 ... 1 7 0]\n",
      " [5 2 4 ... 7 7 1]]\n"
     ]
    }
   ],
   "source": [
    "randomNumTable = np.random.randint(9, size=(500, 500))  # შემთხვევითი რიცხვების ცხრილი\n",
    "print(randomNumTable)"
   ]
  },
  {
   "cell_type": "code",
   "execution_count": 3,
   "metadata": {},
   "outputs": [
    {
     "name": "stdout",
     "output_type": "stream",
     "text": [
      "ცხრილი ერთ განზომილებაში არის 02450165265875880004315773111078320572532704111212...\n"
     ]
    }
   ],
   "source": [
    "# გადავიყვანოთ ცხრილი ერთ განზომილებაში (შემდგომი ოპერაციების გამარტივებისთვის)\n",
    "randomNumsList = \"\"\n",
    "randomNumTable = randomNumTable.flatten()\n",
    "\n",
    "for i in range(randomNumTable.size):\n",
    "    randomNumsList += str(randomNumTable[i])\n",
    "\n",
    "print(f\"ცხრილი ერთ განზომილებაში არის {randomNumsList[:50]}...\")"
   ]
  },
  {
   "cell_type": "markdown",
   "metadata": {},
   "source": [
    "#### a"
   ]
  },
  {
   "cell_type": "markdown",
   "metadata": {},
   "source": [
    "ფირმის თანამშრომლებს ვნომრავთ 0-დან 99-მდე; <br>\n",
    "შემთხვევითი რიცხვების ცხრილიდან ვარჩევთ სამნიშნა რიცხვებს და ვამატებთ შერჩეული რიცხვების სიაში, ისე რომ რიცხვები არ გავიმეოროთ;<br>\n",
    "შერჩეული რიცხვების სიის მიხედვით ვირჩევთ თანამშრომლებს ნომრების მიხედვით"
   ]
  },
  {
   "cell_type": "code",
   "execution_count": 4,
   "metadata": {},
   "outputs": [],
   "source": [
    "# შევარჩიოთ ორნიშნა რიცხვები სიიდან, მიყოლებით განსაზღვრული ადგილიდან (ჩვენს შემთხვევაში ვიწყებთ 0-დან)\n",
    "# (მოცემული მაგალითსითვის შემთხვევითი რიცხვების რაოდენობა საკმარისია საჭიროების შემთხვევაში შესაძლებელია\n",
    "# უფრო დიდი ცხრილის გამოყენება ან შერჩევის წესის შეცვლა)\n",
    "\n",
    "def addToChosenNumbers(tableStartPos, randomNumsArray, chosenNumsLength):\n",
    "    chosenNumbers = [] \n",
    "    \n",
    "    randomNumsList = randomNumsArray \n",
    "    i = tableStartPos\n",
    "    while (len(chosenNumbers) < chosenNumsLength):\n",
    "        randomNum = int(randomNumsList[i: i+2])\n",
    "        if randomNum not in chosenNumbers:\n",
    "            chosenNumbers.append(randomNum)\n",
    "        i += 2\n",
    "        \n",
    "    return chosenNumbers\n",
    "        \n",
    "    \n",
    "chosenNumbers = addToChosenNumbers(0, randomNumsList, 30)"
   ]
  },
  {
   "cell_type": "code",
   "execution_count": 5,
   "metadata": {},
   "outputs": [
    {
     "name": "stdout",
     "output_type": "stream",
     "text": [
      "შეირჩევიან თანამშრომლები ნომრებით [2, 45, 1, 65, 26, 58, 75, 88, 0, 4, 31, 57, 73, 11, 10, 78, 32, 5, 72, 53, 27, 12, 30, 43, 80, 40, 47, 63, 16, 52]\n"
     ]
    }
   ],
   "source": [
    "print(\"შეირჩევიან თანამშრომლები ნომრებით\", chosenNumbers)"
   ]
  },
  {
   "cell_type": "code",
   "execution_count": null,
   "metadata": {},
   "outputs": [],
   "source": []
  },
  {
   "cell_type": "markdown",
   "metadata": {},
   "source": [
    "#### b"
   ]
  },
  {
   "cell_type": "code",
   "execution_count": 6,
   "metadata": {},
   "outputs": [],
   "source": [
    "# ავიღოთ მოცემული კლასტერიდან შემთხვევით შერჩეული სამი კლასტერი და შევკრიბოთ მათი მოცულობები\n",
    "# (გავიმეოროთ ოპერაცია სამჯერ)\n",
    "\n",
    "clusters = [15, 10, 20, 30, 5, 25, 35, 40, 5]"
   ]
  },
  {
   "cell_type": "code",
   "execution_count": 7,
   "metadata": {},
   "outputs": [],
   "source": [
    "def randomClusters(clustersList):\n",
    "    \"\"\"ეს ფუნქცია ირჩევს სამ კლასტერს შემთხვევითი წესით და კრიბავს მათ მნიშვნელობებს\"\"\"\n",
    "    \n",
    "    clustersIndicies = []\n",
    "    chosenClusters = []\n",
    "    \n",
    "    while (len(clustersIndicies) < 3):\n",
    "        randomNum = np.random.randint(len(clustersList))\n",
    "        if randomNum not in clustersIndicies:\n",
    "            clustersIndicies.append(randomNum)\n",
    "            chosenClusters.append(clustersList[randomNum])\n",
    "            \n",
    "    return clustersIndicies, sum(chosenClusters)"
   ]
  },
  {
   "cell_type": "code",
   "execution_count": 8,
   "metadata": {},
   "outputs": [
    {
     "name": "stdout",
     "output_type": "stream",
     "text": [
      "შერჩეული კლასტერების ინდექსები - ცდა 1: [1, 5, 0]\n",
      "შერჩეული კლასტერების ჯამი      - ცდა 1: 50\n",
      "\n",
      "შერჩეული კლასტერების ინდექსები - ცდა 2: [3, 8, 6]\n",
      "შერჩეული კლასტერების ჯამი      - ცდა 2: 70\n",
      "\n",
      "შერჩეული კლასტერების ინდექსები - ცდა 3: [8, 2, 4]\n",
      "შერჩეული კლასტერების ჯამი      - ცდა 3: 30\n",
      "\n"
     ]
    }
   ],
   "source": [
    "for i in range(3):\n",
    "    chosenClusterIndicies, chosenClusterSum = randomClusters(clusters)\n",
    "    print(f\"შერჩეული კლასტერების ინდექსები - ცდა {i+1}: {chosenClusterIndicies}\")\n",
    "    print(f\"შერჩეული კლასტერების ჯამი      - ცდა {i+1}: {chosenClusterSum}\\n\")"
   ]
  },
  {
   "cell_type": "code",
   "execution_count": null,
   "metadata": {},
   "outputs": [],
   "source": []
  }
 ],
 "metadata": {
  "kernelspec": {
   "display_name": "Python 3",
   "language": "python",
   "name": "python3"
  },
  "language_info": {
   "codemirror_mode": {
    "name": "ipython",
    "version": 3
   },
   "file_extension": ".py",
   "mimetype": "text/x-python",
   "name": "python",
   "nbconvert_exporter": "python",
   "pygments_lexer": "ipython3",
   "version": "3.8.5"
  }
 },
 "nbformat": 4,
 "nbformat_minor": 4
}
