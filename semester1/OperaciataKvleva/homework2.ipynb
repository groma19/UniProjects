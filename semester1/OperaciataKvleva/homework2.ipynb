{
 "cells": [
  {
   "cell_type": "code",
   "execution_count": 1,
   "metadata": {},
   "outputs": [],
   "source": [
    "import numpy as np\n",
    "import pandas as pd\n",
    "import matplotlib.pyplot as plt"
   ]
  },
  {
   "cell_type": "code",
   "execution_count": 2,
   "metadata": {},
   "outputs": [],
   "source": [
    "def calcParamsAndCoeff(X, Y):\n",
    "    '''ითვლის რეგრესიის პარამეტრებს და კორელაციის და დეტერმინაციის კოეფიციენტებს'''\n",
    "    \n",
    "    elementsNum = X.size                             # ელემენტების რაოდენობა\n",
    "    \n",
    "    sum_X = np.sum(X)                                # X ჯამი\n",
    "    sum_Y = np.sum(Y)                                # Y ჯამი\n",
    "    sum_X_2 = np.sum(X*X)                            # X^2 ჯამი\n",
    "    sum_Y_2 = np.sum(Y*Y)                            # Y^2 ჯამი\n",
    "    sum_X_Y = np.sum(X*Y)                            # X*Y ჯამი\n",
    "    \n",
    "    mean_X = sum_X / elementsNum                     # X საშუალო\n",
    "    mean_Y = sum_Y / elementsNum                     # Y საშუალო \n",
    "    \n",
    "    SSx = sum_X_2 - sum_X**2 / elementsNum           # X კვადრატების ჯამი\n",
    "    SSy = sum_Y_2 - sum_Y**2 / elementsNum           # Y კვადრატების ჯამი\n",
    "    SSxy = sum_X_Y - sum_X * sum_Y / elementsNum     # X * Y ჯამი \n",
    "    \n",
    "    r = SSxy / (np.sqrt(SSx) * np.sqrt(SSy))         # კორელაციის კოეფიციენტი\n",
    "    R_2 = r ** 2                                     # დეტერმინაციის კოეფიციენტი\n",
    "    \n",
    "    b = SSxy/SSx                                    # b კოეფიციენტი\n",
    "    a = mean_Y - b * mean_X                         # a კოეფიციენტი\n",
    "    params = [a, b]\n",
    "    \n",
    "    return params, r, R_2"
   ]
  },
  {
   "cell_type": "markdown",
   "metadata": {},
   "source": [
    "### სავარჯიშო 2.1"
   ]
  },
  {
   "cell_type": "code",
   "execution_count": 3,
   "metadata": {},
   "outputs": [],
   "source": [
    "X = np.array([99, 150, 130, 105, 219, 167, 180])\n",
    "Y = np.array([1200, 1000, 1050, 1150, 700, 850, 900])"
   ]
  },
  {
   "cell_type": "code",
   "execution_count": 4,
   "metadata": {},
   "outputs": [],
   "source": [
    "_, _, R_2 = calcParamsAndCoeff(X, Y)"
   ]
  },
  {
   "cell_type": "code",
   "execution_count": 5,
   "metadata": {},
   "outputs": [
    {
     "data": {
      "image/png": "[encoded data removed]",
      "text/plain": [
       "<Figure size 432x288 with 1 Axes>"
      ]
     },
     "metadata": {
      "needs_background": "light"
     },
     "output_type": "display_data"
    }
   ],
   "source": [
    "# ა)\n",
    "plt.scatter(X, Y)\n",
    "plt.xlabel(\"ბილეთის ფასები\")\n",
    "plt.ylabel(\"მგზავრთა რაოდენობა\")\n",
    "plt.show()"
   ]
  },
  {
   "cell_type": "code",
   "execution_count": 6,
   "metadata": {},
   "outputs": [
    {
     "name": "stdout",
     "output_type": "stream",
     "text": [
      "დეტერმინაციის კოეფიციენტი არის 0.9658479670938127, აქედან გამომდინარე დამოკიდებულება არსებითია.\n"
     ]
    }
   ],
   "source": [
    "# ბ)\n",
    "print(\"დეტერმინაციის კოეფიციენტი არის {0}, აქედან გამომდინარე დამოკიდებულება არსებითია.\".format(R_2))"
   ]
  },
  {
   "cell_type": "markdown",
   "metadata": {},
   "source": [
    "### სავარჯიშო 2.2"
   ]
  },
  {
   "cell_type": "code",
   "execution_count": 7,
   "metadata": {},
   "outputs": [],
   "source": [
    "X = np.array([40, 31, 50, 53, 36, 55, 37, 45])\n",
    "Y = np.array([32, 24, 47, 50, 30, 55, 33, 41])"
   ]
  },
  {
   "cell_type": "code",
   "execution_count": 8,
   "metadata": {},
   "outputs": [
    {
     "data": {
      "image/png": "[encoded data removed]",
      "text/plain": [
       "<Figure size 432x288 with 1 Axes>"
      ]
     },
     "metadata": {
      "needs_background": "light"
     },
     "output_type": "display_data"
    }
   ],
   "source": [
    "# ა)\n",
    "plt.scatter(X, Y)\n",
    "plt.xlabel(\"ასაკი\")\n",
    "plt.ylabel(\"წლიური შემოსავალი (ათასი აშშ დოლარი)\")\n",
    "plt.show()"
   ]
  },
  {
   "cell_type": "code",
   "execution_count": 9,
   "metadata": {},
   "outputs": [
    {
     "name": "stdout",
     "output_type": "stream",
     "text": [
      "კორელაციის კოეფიციენტია 0.9909119332141263\n"
     ]
    }
   ],
   "source": [
    "# ბ)\n",
    "_, r, _ = calcParamsAndCoeff(X, Y)\n",
    "print(\"კორელაციის კოეფიციენტია\", r)"
   ]
  },
  {
   "cell_type": "markdown",
   "metadata": {},
   "source": [
    "### სავარჯიშო 2.3"
   ]
  },
  {
   "cell_type": "code",
   "execution_count": 10,
   "metadata": {},
   "outputs": [],
   "source": [
    "X = np.array([-2, -1, 0, 1, 2])\n",
    "Y = np.array([-10, -6, -3, 1, 5])"
   ]
  },
  {
   "cell_type": "code",
   "execution_count": 11,
   "metadata": {},
   "outputs": [
    {
     "name": "stdout",
     "output_type": "stream",
     "text": [
      "დეტერმინაციის კოეფიციენტია 0.9978134110787171\n"
     ]
    }
   ],
   "source": [
    "_, _, R_2 = calcParamsAndCoeff(X, Y)\n",
    "print(\"დეტერმინაციის კოეფიციენტია\", R_2)"
   ]
  },
  {
   "cell_type": "markdown",
   "metadata": {},
   "source": [
    "### სავარჯიშო 2.4"
   ]
  },
  {
   "cell_type": "code",
   "execution_count": 12,
   "metadata": {},
   "outputs": [],
   "source": [
    "X = np.array([1, 2, 3, 4, 5])\n",
    "Y = np.array([-1, -3, 5, -10, -11])"
   ]
  },
  {
   "cell_type": "code",
   "execution_count": 13,
   "metadata": {},
   "outputs": [
    {
     "name": "stdout",
     "output_type": "stream",
     "text": [
      "დეტერმინაციის კოეფიციენტია 0.41420454545454544\n"
     ]
    }
   ],
   "source": [
    "_, _, R_2 = calcParamsAndCoeff(X, Y)\n",
    "print(\"დეტერმინაციის კოეფიციენტია\", R_2)"
   ]
  },
  {
   "cell_type": "code",
   "execution_count": null,
   "metadata": {},
   "outputs": [],
   "source": []
  }
 ],
 "metadata": {
  "kernelspec": {
   "display_name": "Python 3",
   "language": "python",
   "name": "python3"
  },
  "language_info": {
   "codemirror_mode": {
    "name": "ipython",
    "version": 3
   },
   "file_extension": ".py",
   "mimetype": "text/x-python",
   "name": "python",
   "nbconvert_exporter": "python",
   "pygments_lexer": "ipython3",
   "version": "3.8.5"
  }
 },
 "nbformat": 4,
 "nbformat_minor": 4
}
